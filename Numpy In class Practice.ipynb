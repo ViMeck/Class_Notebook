{
 "cells": [
  {
   "cell_type": "markdown",
   "id": "b079616b",
   "metadata": {},
   "source": [
    "# Numpy- inclass assignment \n",
    "## Submit your work using GitHub to Moodle"
   ]
  },
  {
   "cell_type": "markdown",
   "id": "82127cdd",
   "metadata": {},
   "source": [
    "### Generate a random numpy array for Month of October where the highest temperature varies between 48-81 degree Farenheit\n",
    "- Keep in mind the length of the month\n",
    "- set a random seed of 1 for regenerate\n",
    "- Display the numpy array named `Temp_O` and find out the minimum and maximum temperature of month"
   ]
  },
  {
   "cell_type": "code",
   "execution_count": 2,
   "id": "8c94eaf9",
   "metadata": {},
   "outputs": [
    {
     "data": {
      "text/plain": [
       "array([60, 56, 57, 59, 53, 63, 48, 64, 49, 60, 55, 54, 73, 68, 66, 68, 59,\n",
       "       76, 77, 62, 52, 71, 71, 78, 80, 70, 61, 57, 55, 70, 49])"
      ]
     },
     "execution_count": 2,
     "metadata": {},
     "output_type": "execute_result"
    }
   ],
   "source": [
    "import numpy as np\n",
    "np.random.seed(1)\n",
    "Temp_O=np.random.randint(48,81,size=31)\n",
    "Temp_O"
   ]
  },
  {
   "cell_type": "markdown",
   "id": "9ce763ee",
   "metadata": {},
   "source": [
    "### Load the numpy file `Temp_December` and store it to a variable named Temp_D"
   ]
  },
  {
   "cell_type": "code",
   "execution_count": 5,
   "id": "fbfa1c12",
   "metadata": {},
   "outputs": [
    {
     "data": {
      "text/plain": [
       "array([44, 50, 19, 15, 16, 18, 12, 22,  7, 23,  8, 19, 14, 52, 13, 32, 57,\n",
       "       27, 44, 25, 27, 18, 49, 35, 36, 21, 57, 11, 30, 30, 48],\n",
       "      dtype=int32)"
      ]
     },
     "execution_count": 5,
     "metadata": {},
     "output_type": "execute_result"
    }
   ],
   "source": [
    "Temp_D=np.load(\"Temp_December.npy\")\n",
    "Temp_D"
   ]
  },
  {
   "cell_type": "markdown",
   "id": "a9847e78",
   "metadata": {},
   "source": [
    "### Compare two numpy array - Temp_O and Temp_D\n",
    "- Elementwise\n",
    "- Arraywise"
   ]
  },
  {
   "cell_type": "code",
   "execution_count": 10,
   "id": "9b9a8704",
   "metadata": {},
   "outputs": [
    {
     "name": "stdout",
     "output_type": "stream",
     "text": [
      "[ True  True  True  True  True  True  True  True  True  True  True  True\n",
      "  True  True  True  True  True  True  True  True  True  True  True  True\n",
      "  True  True  True  True  True  True  True]\n",
      "[False False False False False False False False False False False False\n",
      " False False False False False False False False False False False False\n",
      " False False False False False False False]\n"
     ]
    }
   ],
   "source": [
    "#Element wise\n",
    "print(Temp_O>Temp_D)\n",
    "print(Temp_O==Temp_D)"
   ]
  },
  {
   "cell_type": "code",
   "execution_count": 11,
   "id": "a4dee81c",
   "metadata": {},
   "outputs": [
    {
     "data": {
      "text/plain": [
       "False"
      ]
     },
     "execution_count": 11,
     "metadata": {},
     "output_type": "execute_result"
    }
   ],
   "source": [
    "#array wise\n",
    "np.array_equal(Temp_O, Temp_D)"
   ]
  },
  {
   "cell_type": "markdown",
   "id": "0a88755c",
   "metadata": {},
   "source": [
    "### Find out the:\n",
    "- Average temperature\n",
    "- Standard deviation\n",
    "- Varience\n",
    "- Minimum temp\n",
    "- Maximum temp\n",
    "- Median\n",
    "#### for Month of December"
   ]
  },
  {
   "cell_type": "code",
   "execution_count": 13,
   "id": "a2f7560c",
   "metadata": {},
   "outputs": [
    {
     "name": "stdout",
     "output_type": "stream",
     "text": [
      "Average Temp is:  28\n"
     ]
    }
   ],
   "source": [
    "print(f\"Average Temp is \",round(np.mean(Temp_D)))\n"
   ]
  },
  {
   "cell_type": "code",
   "execution_count": 14,
   "id": "00e36e9f",
   "metadata": {},
   "outputs": [
    {
     "name": "stdout",
     "output_type": "stream",
     "text": [
      "Standard deviation is:  15\n"
     ]
    }
   ],
   "source": [
    "print(f\"Standard deviation is \",round(np.std(Temp_D)))"
   ]
  },
  {
   "cell_type": "code",
   "execution_count": 15,
   "id": "8dd8d28b",
   "metadata": {},
   "outputs": [
    {
     "name": "stdout",
     "output_type": "stream",
     "text": [
      "Minimum is: 7\n"
     ]
    }
   ],
   "source": [
    "print(f\"Minimum is\",np.min(Temp_D))"
   ]
  },
  {
   "cell_type": "code",
   "execution_count": 16,
   "id": "6f8fa8b6",
   "metadata": {},
   "outputs": [
    {
     "name": "stdout",
     "output_type": "stream",
     "text": [
      "Maximum is 57\n"
     ]
    }
   ],
   "source": [
    "print(f\"Maximum is\",np.max(Temp_D))"
   ]
  },
  {
   "cell_type": "code",
   "execution_count": 19,
   "id": "f9e3a9f5",
   "metadata": {},
   "outputs": [
    {
     "name": "stdout",
     "output_type": "stream",
     "text": [
      "Varience is 220\n"
     ]
    }
   ],
   "source": [
    "print(f\"Varience is\",round(np.var(Temp_D)))"
   ]
  },
  {
   "cell_type": "code",
   "execution_count": 20,
   "id": "60ac3441",
   "metadata": {},
   "outputs": [
    {
     "name": "stdout",
     "output_type": "stream",
     "text": [
      "Median is 25.0\n"
     ]
    }
   ],
   "source": [
    "print(f\"Median is\",np.median(Temp_D))"
   ]
  },
  {
   "cell_type": "markdown",
   "id": "a8bfea7e",
   "metadata": {},
   "source": [
    "### Plot the distribution of December Temperature using Matplotlib\n",
    "- add title and create proper labels"
   ]
  },
  {
   "cell_type": "code",
   "execution_count": 23,
   "id": "5e8310b6",
   "metadata": {},
   "outputs": [
    {
     "data": {
      "image/png": "[encoded data removed]",
      "text/plain": [
       "<Figure size 640x480 with 1 Axes>"
      ]
     },
     "metadata": {},
     "output_type": "display_data"
    }
   ],
   "source": [
    "import matplotlib.pyplot as plt\n",
    "plt.hist(Temp_D)\n",
    "plt.title(\"Temperatures of December\")\n",
    "plt.xlabel(\"Temp (F)\")\n",
    "plt.ylabel(\"Number of Days\")\n",
    "plt.show()"
   ]
  },
  {
   "cell_type": "markdown",
   "id": "4ac618ad",
   "metadata": {},
   "source": [
    "### Convert the Temp_D to Celsius and store it to a variable names Temp_C. \n",
    "- Round off the result\n",
    "- Save it to a numpy file called DecemberTemp_Celsius"
   ]
  },
  {
   "cell_type": "code",
   "execution_count": 26,
   "id": "6942dd4c",
   "metadata": {},
   "outputs": [
    {
     "name": "stdout",
     "output_type": "stream",
     "text": [
      "[  7.  10.  -7.  -9.  -9.  -8. -11.  -6. -14.  -5. -13.  -7. -10.  11.\n",
      " -11.   0.  14.  -3.   7.  -4.  -3.  -8.   9.   2.   2.  -6.  14. -12.\n",
      "  -1.  -1.   9.]\n"
     ]
    }
   ],
   "source": [
    "Temp_C=5/9*(Temp_D-32)\n",
    "print(np.round(Temp_C))"
   ]
  },
  {
   "cell_type": "code",
   "execution_count": 27,
   "id": "5afdbbe0",
   "metadata": {},
   "outputs": [],
   "source": [
    "np.save(\"DecemberTemp_Celsius.npy\",Temp_C)"
   ]
  },
  {
   "cell_type": "code",
   "execution_count": 29,
   "id": "2f012f75",
   "metadata": {},
   "outputs": [
    {
     "data": {
      "text/plain": [
       "array([  6.66666667,  10.        ,  -7.22222222,  -9.44444444,\n",
       "        -8.88888889,  -7.77777778, -11.11111111,  -5.55555556,\n",
       "       -13.88888889,  -5.        , -13.33333333,  -7.22222222,\n",
       "       -10.        ,  11.11111111, -10.55555556,   0.        ,\n",
       "        13.88888889,  -2.77777778,   6.66666667,  -3.88888889,\n",
       "        -2.77777778,  -7.77777778,   9.44444444,   1.66666667,\n",
       "         2.22222222,  -6.11111111,  13.88888889, -11.66666667,\n",
       "        -1.11111111,  -1.11111111,   8.88888889])"
      ]
     },
     "execution_count": 29,
     "metadata": {},
     "output_type": "execute_result"
    }
   ],
   "source": [
    "np.load(\"DecemberTemp_Celsius.npy\")"
   ]
  },
  {
   "cell_type": "code",
   "execution_count": null,
   "id": "72705746",
   "metadata": {},
   "outputs": [],
   "source": []
  }
 ],
 "metadata": {
  "kernelspec": {
   "display_name": "Python 3 (ipykernel)",
   "language": "python",
   "name": "python3"
  },
  "language_info": {
   "codemirror_mode": {
    "name": "ipython",
    "version": 3
   },
   "file_extension": ".py",
   "mimetype": "text/x-python",
   "name": "python",
   "nbconvert_exporter": "python",
   "pygments_lexer": "ipython3",
   "version": "3.11.4"
  }
 },
 "nbformat": 4,
 "nbformat_minor": 5
}
