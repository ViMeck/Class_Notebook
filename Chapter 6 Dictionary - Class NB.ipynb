{
 "cells": [
  {
   "cell_type": "markdown",
   "id": "73943399",
   "metadata": {},
   "source": [
    "# 6. Working with Dictionaries\n",
    "* A dictionary in Python is a collection of key-value pairs. \n",
    "* Each key is connected to a value, and you can use a key to access the value associated with that key.\n",
    "* A key’s value can be a number, a string, a list, or even another dictionary.\n",
    "\n",
    "* `Key` is the unique identifier to find data and the `value` is the data\n",
    "\n",
    "* A dictionary is a collection which is ordered*, changeable and does not allow duplicates.\n",
    "\n",
    "* Unlike strings, lists, and tuples, **dictionaries are not sequences** - the data are not stored in order. \n",
    "* List can be represented by [ ], Tuple can be represented by ( ), Dictionary  can be represented by { }"
   ]
  },
  {
   "cell_type": "code",
   "execution_count": 1,
   "id": "05999d3a",
   "metadata": {},
   "outputs": [
    {
     "data": {
      "text/plain": [
       "dict"
      ]
     },
     "execution_count": 1,
     "metadata": {},
     "output_type": "execute_result"
    }
   ],
   "source": [
    "dict={}\n",
    "type(dict)"
   ]
  },
  {
   "cell_type": "code",
   "execution_count": null,
   "id": "88e3e9ba",
   "metadata": {},
   "outputs": [],
   "source": []
  },
  {
   "cell_type": "code",
   "execution_count": 4,
   "id": "5d25b2cb",
   "metadata": {},
   "outputs": [],
   "source": [
    "data={'Alabama':'Montgomery','Arizona':'Phoenix','Georgia':'Atlanta','Kentucky':'Frankfort','Ohio':'Columbus'}"
   ]
  },
  {
   "cell_type": "markdown",
   "id": "4be8c616",
   "metadata": {},
   "source": [
    "### Access `values` from a dictionary using key\n",
    "* Key and values can be any data types\n",
    "* Accessing key value not present in dictionary generated KeyError"
   ]
  },
  {
   "cell_type": "code",
   "execution_count": 5,
   "id": "aab3f949",
   "metadata": {},
   "outputs": [
    {
     "data": {
      "text/plain": [
       "'Columbus'"
      ]
     },
     "execution_count": 5,
     "metadata": {},
     "output_type": "execute_result"
    }
   ],
   "source": [
    "data['Ohio']"
   ]
  },
  {
   "cell_type": "code",
   "execution_count": 6,
   "id": "fe9e3886",
   "metadata": {},
   "outputs": [
    {
     "data": {
      "text/plain": [
       "'Atlanta'"
      ]
     },
     "execution_count": 6,
     "metadata": {},
     "output_type": "execute_result"
    }
   ],
   "source": [
    "data['Georgia']"
   ]
  },
  {
   "cell_type": "code",
   "execution_count": 8,
   "id": "e4eb565d",
   "metadata": {},
   "outputs": [],
   "source": [
    "#data['New York']\n",
    "# If the key is not in the dictionary, it will create an error"
   ]
  },
  {
   "cell_type": "code",
   "execution_count": null,
   "id": "c7dae653",
   "metadata": {},
   "outputs": [],
   "source": []
  },
  {
   "cell_type": "markdown",
   "id": "bc6af6fc",
   "metadata": {},
   "source": [
    "### Update elements of a dictionary and add new elements"
   ]
  },
  {
   "cell_type": "code",
   "execution_count": 29,
   "id": "f62f227f",
   "metadata": {},
   "outputs": [],
   "source": [
    "day={1:'Mon',2:'Tues',4:('Thu','Fri'),5:['Sat','Sun']}"
   ]
  },
  {
   "cell_type": "code",
   "execution_count": 32,
   "id": "560dd19f",
   "metadata": {},
   "outputs": [
    {
     "data": {
      "text/plain": [
       "'Thu'"
      ]
     },
     "execution_count": 32,
     "metadata": {},
     "output_type": "execute_result"
    }
   ],
   "source": [
    "#Thu\n",
    "day[4][0]"
   ]
  },
  {
   "cell_type": "code",
   "execution_count": 33,
   "id": "7f07b100",
   "metadata": {},
   "outputs": [
    {
     "data": {
      "text/plain": [
       "'Sun'"
      ]
     },
     "execution_count": 33,
     "metadata": {},
     "output_type": "execute_result"
    }
   ],
   "source": [
    "day[5][1]"
   ]
  },
  {
   "cell_type": "code",
   "execution_count": 34,
   "id": "e30ad316",
   "metadata": {},
   "outputs": [
    {
     "data": {
      "text/plain": [
       "{1: 'Mon', 2: 'Tues', 4: ('Thu', 'Fri'), 5: ['Sat', 'Sun'], 3: 'Wed'}"
      ]
     },
     "execution_count": 34,
     "metadata": {},
     "output_type": "execute_result"
    }
   ],
   "source": [
    "day[3]='Wed'\n",
    "day"
   ]
  },
  {
   "cell_type": "code",
   "execution_count": 35,
   "id": "b166103d",
   "metadata": {},
   "outputs": [
    {
     "data": {
      "text/plain": [
       "{1: 'Mon', 2: 'Tues', 4: ('Thu', 'Fri'), 5: ['holiday', 'Sun'], 3: 'Wed'}"
      ]
     },
     "execution_count": 35,
     "metadata": {},
     "output_type": "execute_result"
    }
   ],
   "source": [
    "# update sat to holiday\n",
    "day[5][0]='holiday'\n",
    "day"
   ]
  },
  {
   "cell_type": "markdown",
   "id": "f7bb990f",
   "metadata": {},
   "source": [
    "### `get` and `update` methods"
   ]
  },
  {
   "cell_type": "code",
   "execution_count": 36,
   "id": "071c6f12",
   "metadata": {},
   "outputs": [
    {
     "data": {
      "text/plain": [
       "'Wed'"
      ]
     },
     "execution_count": 36,
     "metadata": {},
     "output_type": "execute_result"
    }
   ],
   "source": [
    "# return wed\n",
    "day.get(3)"
   ]
  },
  {
   "cell_type": "code",
   "execution_count": 37,
   "id": "10cd3add",
   "metadata": {},
   "outputs": [
    {
     "data": {
      "text/plain": [
       "'Mon'"
      ]
     },
     "execution_count": 37,
     "metadata": {},
     "output_type": "execute_result"
    }
   ],
   "source": [
    "#return Mon\n",
    "day.get(1)"
   ]
  },
  {
   "cell_type": "code",
   "execution_count": 38,
   "id": "afdf81cb",
   "metadata": {},
   "outputs": [],
   "source": [
    "day.get(6) # will not return an error if the key is not present"
   ]
  },
  {
   "cell_type": "code",
   "execution_count": 39,
   "id": "c99acf1a",
   "metadata": {},
   "outputs": [],
   "source": [
    "#day.get[6] #will return error"
   ]
  },
  {
   "cell_type": "code",
   "execution_count": 40,
   "id": "7ef28432",
   "metadata": {},
   "outputs": [],
   "source": [
    "data={'Alabama':'Montgomery','Arizona':'Phoenix','Georgia':'Atlanta','Kentucky':'Frankfort','Ohio':'Columbus'}"
   ]
  },
  {
   "cell_type": "code",
   "execution_count": 41,
   "id": "e1fb54f6",
   "metadata": {},
   "outputs": [
    {
     "data": {
      "text/plain": [
       "{'Alabama': 'Montgomery',\n",
       " 'Arizona': 'Phoenix',\n",
       " 'Georgia': 'Atlanta',\n",
       " 'Kentucky': 'Louisville',\n",
       " 'Ohio': 'Columbus'}"
      ]
     },
     "execution_count": 41,
     "metadata": {},
     "output_type": "execute_result"
    }
   ],
   "source": [
    "data.update({'Kentucky':'Louisville'})\n",
    "data"
   ]
  },
  {
   "cell_type": "code",
   "execution_count": 42,
   "id": "9ff103af",
   "metadata": {},
   "outputs": [
    {
     "data": {
      "text/plain": [
       "{'Alabama': 'Montgomery',\n",
       " 'Arizona': 'Phoenix',\n",
       " 'Georgia': 'Atlanta',\n",
       " 'Kentucky': 'Louisville',\n",
       " 'Ohio': 'Columbus',\n",
       " 'Louisiana': 'Baton Rouge'}"
      ]
     },
     "execution_count": 42,
     "metadata": {},
     "output_type": "execute_result"
    }
   ],
   "source": [
    "data.update({'Louisiana':'Baton Rouge'})\n",
    "data"
   ]
  },
  {
   "cell_type": "code",
   "execution_count": 43,
   "id": "7de760cf",
   "metadata": {},
   "outputs": [
    {
     "data": {
      "text/plain": [
       "{'Alabama': 'Montgomery',\n",
       " 'Arizona': 'Phoenix',\n",
       " 'Georgia': 'Atlanta',\n",
       " 'Kentucky': 'Frankfort',\n",
       " 'Ohio': 'Columbus',\n",
       " 'Louisiana': 'Baton Rouge',\n",
       " 'Missouri': 'Jefferson City'}"
      ]
     },
     "execution_count": 43,
     "metadata": {},
     "output_type": "execute_result"
    }
   ],
   "source": [
    "data.update({'Missouri':'Jefferson City','Kentucky':'Frankfort'})\n",
    "data"
   ]
  },
  {
   "cell_type": "markdown",
   "id": "18536626",
   "metadata": {},
   "source": [
    "### Delete dictionary items using `del` and `pop`"
   ]
  },
  {
   "cell_type": "code",
   "execution_count": null,
   "id": "ebc3b904",
   "metadata": {},
   "outputs": [],
   "source": []
  },
  {
   "cell_type": "code",
   "execution_count": null,
   "id": "fc64b2ed",
   "metadata": {},
   "outputs": [],
   "source": []
  },
  {
   "cell_type": "code",
   "execution_count": null,
   "id": "e3993e4c",
   "metadata": {},
   "outputs": [],
   "source": []
  },
  {
   "cell_type": "markdown",
   "id": "610aae76",
   "metadata": {},
   "source": [
    "### Number of elements in the dictionary and extracting `keys()`, `values()`, `items()`"
   ]
  },
  {
   "cell_type": "code",
   "execution_count": 1,
   "id": "f13bd3ba",
   "metadata": {},
   "outputs": [],
   "source": [
    "data={'Alabama':'Montgomery','Arizona':'Phoenix','Georgia':'Atlanta','Kentucky':'Frankfort','Ohio':'Columbus'}"
   ]
  },
  {
   "cell_type": "code",
   "execution_count": 2,
   "id": "1d31365f",
   "metadata": {},
   "outputs": [
    {
     "data": {
      "text/plain": [
       "dict_keys(['Alabama', 'Arizona', 'Georgia', 'Kentucky', 'Ohio'])"
      ]
     },
     "execution_count": 2,
     "metadata": {},
     "output_type": "execute_result"
    }
   ],
   "source": [
    "data.keys()"
   ]
  },
  {
   "cell_type": "code",
   "execution_count": 3,
   "id": "0db183c4",
   "metadata": {},
   "outputs": [
    {
     "data": {
      "text/plain": [
       "dict_values(['Montgomery', 'Phoenix', 'Atlanta', 'Frankfort', 'Columbus'])"
      ]
     },
     "execution_count": 3,
     "metadata": {},
     "output_type": "execute_result"
    }
   ],
   "source": [
    "data.values()"
   ]
  },
  {
   "cell_type": "code",
   "execution_count": 4,
   "id": "a1c19204",
   "metadata": {},
   "outputs": [
    {
     "data": {
      "text/plain": [
       "dict_items([('Alabama', 'Montgomery'), ('Arizona', 'Phoenix'), ('Georgia', 'Atlanta'), ('Kentucky', 'Frankfort'), ('Ohio', 'Columbus')])"
      ]
     },
     "execution_count": 4,
     "metadata": {},
     "output_type": "execute_result"
    }
   ],
   "source": [
    "data.items()"
   ]
  },
  {
   "cell_type": "markdown",
   "id": "ab9e78f2",
   "metadata": {},
   "source": [
    "### Loop through a dictionary"
   ]
  },
  {
   "cell_type": "code",
   "execution_count": 6,
   "id": "941bf04e",
   "metadata": {},
   "outputs": [
    {
     "name": "stdout",
     "output_type": "stream",
     "text": [
      "Alabama\n",
      "<class 'str'>\n",
      "Arizona\n",
      "<class 'str'>\n",
      "Georgia\n",
      "<class 'str'>\n",
      "Kentucky\n",
      "<class 'str'>\n",
      "Ohio\n",
      "<class 'str'>\n"
     ]
    }
   ],
   "source": [
    "# unpack the dictionary keys\n",
    "for i in data.keys():\n",
    "    print(i)\n",
    "    print(type(i))"
   ]
  },
  {
   "cell_type": "code",
   "execution_count": 7,
   "id": "fe239e39",
   "metadata": {},
   "outputs": [
    {
     "name": "stdout",
     "output_type": "stream",
     "text": [
      "Montgomery\n",
      "Phoenix\n",
      "Atlanta\n",
      "Frankfort\n",
      "Columbus\n"
     ]
    }
   ],
   "source": [
    "# unpack dictionary values\n",
    "for i in data.values():\n",
    "    print(i)"
   ]
  },
  {
   "cell_type": "code",
   "execution_count": 8,
   "id": "c0746d46",
   "metadata": {},
   "outputs": [
    {
     "name": "stdout",
     "output_type": "stream",
     "text": [
      "('Alabama', 'Montgomery')\n",
      "('Arizona', 'Phoenix')\n",
      "('Georgia', 'Atlanta')\n",
      "('Kentucky', 'Frankfort')\n",
      "('Ohio', 'Columbus')\n"
     ]
    }
   ],
   "source": [
    "# unpack dictionary items\n",
    "for i in data.items():\n",
    "    print(i)"
   ]
  },
  {
   "cell_type": "code",
   "execution_count": 10,
   "id": "e07995b1",
   "metadata": {},
   "outputs": [
    {
     "name": "stdout",
     "output_type": "stream",
     "text": [
      "state:  Alabama\n",
      "capital:  Montgomery\n",
      "state:  Arizona\n",
      "capital:  Phoenix\n",
      "state:  Georgia\n",
      "capital:  Atlanta\n",
      "state:  Kentucky\n",
      "capital:  Frankfort\n",
      "state:  Ohio\n",
      "capital:  Columbus\n"
     ]
    }
   ],
   "source": [
    "# unpack dictionary items\n",
    "for j,k in data.items():\n",
    "    print(\"state: \",j)\n",
    "    print(\"capital: \",k)"
   ]
  },
  {
   "cell_type": "markdown",
   "id": "82ec7aff",
   "metadata": {},
   "source": [
    "### Convert dictionary to lists using `list()` function"
   ]
  },
  {
   "cell_type": "code",
   "execution_count": 11,
   "id": "afcede6e",
   "metadata": {},
   "outputs": [
    {
     "data": {
      "text/plain": [
       "{'Alabama': 'Montgomery',\n",
       " 'Arizona': 'Phoenix',\n",
       " 'Georgia': 'Atlanta',\n",
       " 'Kentucky': 'Frankfort',\n",
       " 'Ohio': 'Columbus'}"
      ]
     },
     "execution_count": 11,
     "metadata": {},
     "output_type": "execute_result"
    }
   ],
   "source": [
    "data"
   ]
  },
  {
   "cell_type": "code",
   "execution_count": 13,
   "id": "b85f9771",
   "metadata": {},
   "outputs": [
    {
     "data": {
      "text/plain": [
       "['Alabama', 'Arizona', 'Georgia', 'Kentucky', 'Ohio']"
      ]
     },
     "execution_count": 13,
     "metadata": {},
     "output_type": "execute_result"
    }
   ],
   "source": [
    "# dictionary keys to a list\n",
    "list(data.keys())"
   ]
  },
  {
   "cell_type": "code",
   "execution_count": 14,
   "id": "1513a1e3",
   "metadata": {},
   "outputs": [
    {
     "data": {
      "text/plain": [
       "['Montgomery', 'Phoenix', 'Atlanta', 'Frankfort', 'Columbus']"
      ]
     },
     "execution_count": 14,
     "metadata": {},
     "output_type": "execute_result"
    }
   ],
   "source": [
    "# dictionary values to a list\n",
    "list(data.values())"
   ]
  },
  {
   "cell_type": "code",
   "execution_count": null,
   "id": "59ec3714",
   "metadata": {},
   "outputs": [],
   "source": []
  },
  {
   "cell_type": "markdown",
   "id": "d13131c6",
   "metadata": {},
   "source": [
    "### A List in a Dictionary: How to unpack all of the entries?"
   ]
  },
  {
   "cell_type": "code",
   "execution_count": 16,
   "id": "cd81cd95",
   "metadata": {},
   "outputs": [
    {
     "data": {
      "text/plain": [
       "{'Jen': ['python', 'ruby'],\n",
       " 'Sarah': ['c'],\n",
       " 'Edward': ['ruby', 'java'],\n",
       " 'Phil': ['python', 'java']}"
      ]
     },
     "execution_count": 16,
     "metadata": {},
     "output_type": "execute_result"
    }
   ],
   "source": [
    "fav_lan={'Jen':['python','ruby'],\n",
    "        'Sarah':['c'],\n",
    "        'Edward':['ruby','java'],\n",
    "        'Phil':['python','java']}\n",
    "fav_lan"
   ]
  },
  {
   "cell_type": "code",
   "execution_count": 20,
   "id": "1d594da7",
   "metadata": {},
   "outputs": [
    {
     "name": "stdout",
     "output_type": "stream",
     "text": [
      "The name is: Jen. And the favorite languages are: \n",
      "\t\t\t\t\t\t python\n",
      "\t\t\t\t\t\t ruby\n",
      "The name is: Sarah. And the favorite languages are: \n",
      "\t\t\t\t\t\t c\n",
      "The name is: Edward. And the favorite languages are: \n",
      "\t\t\t\t\t\t ruby\n",
      "\t\t\t\t\t\t java\n",
      "The name is: Phil. And the favorite languages are: \n",
      "\t\t\t\t\t\t python\n",
      "\t\t\t\t\t\t java\n"
     ]
    }
   ],
   "source": [
    "for name,subjects in fav_lan.items():\n",
    "    print(f\"The name is: {name.title()}. And the favorite languages are: \")\n",
    "    for i in subjects:\n",
    "        print(\"\\t\\t\\t\\t\\t\\t\",i)"
   ]
  },
  {
   "cell_type": "code",
   "execution_count": null,
   "id": "e9a96ec4",
   "metadata": {},
   "outputs": [],
   "source": []
  },
  {
   "cell_type": "code",
   "execution_count": null,
   "id": "9796242d",
   "metadata": {},
   "outputs": [],
   "source": []
  },
  {
   "cell_type": "markdown",
   "id": "7543bcaf",
   "metadata": {},
   "source": [
    "###  A Dictionary in a Dictionary"
   ]
  },
  {
   "cell_type": "code",
   "execution_count": 21,
   "id": "5716262d",
   "metadata": {},
   "outputs": [
    {
     "data": {
      "text/plain": [
       "{'est': {'first': 'albert', 'last': 'einstein', 'location': 'prinston'},\n",
       " 'mcr': {'first': 'marie', 'last': 'curie', 'location': 'paris'}}"
      ]
     },
     "execution_count": 21,
     "metadata": {},
     "output_type": "execute_result"
    }
   ],
   "source": [
    "user={'est':{'first':'albert',\n",
    "                 'last':'einstein',\n",
    "                 'location':'prinston'},\n",
    "     'mcr':{'first':'marie',\n",
    "           'last':'curie',\n",
    "           'location':'paris'},}\n",
    "user"
   ]
  },
  {
   "cell_type": "code",
   "execution_count": 22,
   "id": "7aaca1c4",
   "metadata": {},
   "outputs": [
    {
     "data": {
      "text/plain": [
       "'albert'"
      ]
     },
     "execution_count": 22,
     "metadata": {},
     "output_type": "execute_result"
    }
   ],
   "source": [
    "# print albert\n",
    "user['est']['first']"
   ]
  },
  {
   "cell_type": "code",
   "execution_count": 23,
   "id": "45862739",
   "metadata": {},
   "outputs": [
    {
     "data": {
      "text/plain": [
       "'paris'"
      ]
     },
     "execution_count": 23,
     "metadata": {},
     "output_type": "execute_result"
    }
   ],
   "source": [
    "# print paris\n",
    "user['mcr']['location']"
   ]
  },
  {
   "cell_type": "code",
   "execution_count": 27,
   "id": "c05ffce1",
   "metadata": {},
   "outputs": [
    {
     "name": "stdout",
     "output_type": "stream",
     "text": [
      "Username: est\n",
      "full name:  albert einstein\n",
      "location:  prinston\n",
      "Username: mcr\n",
      "full name:  marie curie\n",
      "location:  paris\n"
     ]
    }
   ],
   "source": [
    "for username, user_info in user.items():\n",
    "    print(\"Username:\",username)\n",
    "    full_name=user_info['first']+\" \"+user_info['last']\n",
    "    print(\"full name: \",full_name)\n",
    "    print(\"location: \",user_info['location'])"
   ]
  },
  {
   "cell_type": "code",
   "execution_count": null,
   "id": "2be6781d",
   "metadata": {},
   "outputs": [],
   "source": []
  }
 ],
 "metadata": {
  "kernelspec": {
   "display_name": "Python 3 (ipykernel)",
   "language": "python",
   "name": "python3"
  },
  "language_info": {
   "codemirror_mode": {
    "name": "ipython",
    "version": 3
   },
   "file_extension": ".py",
   "mimetype": "text/x-python",
   "name": "python",
   "nbconvert_exporter": "python",
   "pygments_lexer": "ipython3",
   "version": "3.11.4"
  }
 },
 "nbformat": 4,
 "nbformat_minor": 5
}
